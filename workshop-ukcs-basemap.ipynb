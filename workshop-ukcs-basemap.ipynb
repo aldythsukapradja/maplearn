{
 "cells": [
  {
   "cell_type": "markdown",
   "metadata": {},
   "source": [
    "# Workshop: UK Continental Shelf Basemap"
   ]
  },
  {
   "cell_type": "markdown",
   "metadata": {},
   "source": [
    "---\n",
    "## 1. Objectives"
   ]
  },
  {
   "cell_type": "markdown",
   "metadata": {},
   "source": [
    "### 1.1 Reinventing the basemap  \n",
    "In this notebook we explore the process of making an interactive E&P basemap for the UK Continental Shelf.\n",
    "\n",
    "A basemap is important for placing many types of E&P data, like well locations, seismic surveys, license blocks and field areas, in their correct spatial context. Historically, large printed E&P basemaps were a standard wall covering in many company offices.  \n",
    "\n",
    "Reflecting the changing times and increasing digitalization, our task in this workshop is to reinvent the E&P basemap using Python code and open data sources provided by the UK Oil and Gas Authority. \n",
    "\n",
    "The task of creating the basemap can be posed as an exercise in **computational thinking** - the process of thinking about a problem and developing a solution in a form that can be solved by a computer. "
   ]
  },
  {
   "cell_type": "markdown",
   "metadata": {},
   "source": [
    "\n",
    "### 1.2 Problem statement  \n",
    "\n",
    "Let's start by stating the problem as a set of requirements:\n",
    "\n",
    "#### Display  \n",
    "The map must display the following objects:\n",
    "\n",
    "- **Quadrants**. Quadrants are 1x1 degree areas that subdivide the UKCS into a regular grid.  \n",
    "\n",
    "- **Licence blocks**. Licences blocks are areas defined by polygons within which the licence holder is granted permission to explore for resources.\n",
    "\n",
    "- **Field determinations**. Determinations are regularized boundaries that capture the maximum extent of a field and are integral to gaining consent for a field development.  \n",
    "\n",
    "- **Field outlines**. Field outlines are irregular polygons that define the extent of a hydrocarbon accumulation. \n",
    "\n",
    "- **Cultural/satellite background**. Underlying the basemap there should be cultural/satellite imagery showing important geographic features.\n",
    "\n",
    "#### Interactivity  \n",
    "The map must be interactive with the following features:\n",
    "\n",
    "- **Pan and zoom**. Users should be able to pan to navigate, and zoom to focus on details.  \n",
    "\n",
    "- **Multi-resolution**. The map must be multi-resolution, meaning that the objects are renderered at a level of detail that depends on the amount of zoom. By zooming right in, users should be able to see the finest details in the displayed objects.  \n",
    "\n",
    "- **Legend**. The map must have a legend that allows users to hide/show the displayed objects.  \n",
    "\n",
    "- **Hover**. There should be a way of viewing more detail about any of the objects by simply hovering the mouse over an object.\n",
    "\n",
    "#### Reuse, sharing, and extensibility  \n",
    "The map must support reuse, sharing, and extensibility as follows:\n",
    "\n",
    "- **Reuse**. Users should be able to reuse the basemap including all its interactive features in other notebooks without the need to run the code in this notebook again.  \n",
    "\n",
    "- **Sharing**. Users should be able to share the basemap with colleagues by simply sharing a file.  \n",
    "\n",
    "- **Extensibility**. Users should be able to extend the basemap by adding more objects such as the surface locations of wells, or the location of seismic survey lines. Basic knowledge of Python and the packages used in this notebook should be all that is necessary to achieve this.  \n",
    "\n",
    "#### Data sources\n",
    "The map must be built using data from the following sources:\n",
    "\n",
    "- **GeoJSON data**. Input data for the basemap comes in the form of GeoJSON files from the Oil and Gas Authority. As you should know by now, GeoJSON is just a standard representation of geospatial data expressed in plain text JSON format. You should also recall that JSON format looks similar to the Python code that creates the objects.  \n",
    "\n",
    "- **Tabular data**. Input data to extend the basemap with well and seismic lines come from (`.csv`) files in tabular form. As you should know by now, these are plain text files that we can read in to `pandas` data frames.  \n",
    "\n",
    "At first sight this may seem like a very challenging set of requirements, but by applying some computational thinking we can break down the problem into manageable pieces. It also helps considerably to know that the Plotly graphics package that we're going to use provides many of the parts we need for basemap display, interactivity, and reuse.\n",
    "\n",
    "In the following sections we start by applying computational thinking to sketch out a solution to these requirements, before writing code that implements the basemap using what we have learned in Python 101, 102.  \n",
    "\n",
    "**Note**: Some cells in this notebook require that you complete the code in order to make progress. If you get stuck, there are solutions in:\n",
    "\n",
    "> `workshop-ukcs-basemap-solution.ipynb`  "
   ]
  },
  {
   "attachments": {},
   "cell_type": "markdown",
   "metadata": {},
   "source": [
    "---\n",
    "## 2. Developing a solution"
   ]
  },
  {
   "cell_type": "markdown",
   "metadata": {},
   "source": [
    "### 2.1 Recall of computational thinking  \n",
    "\n",
    "To begin let's recall the main elements of computational thinking:\n",
    "\n",
    "- **Decomposition**. Break a complex task down into smaller, more manageable parts.\n",
    "\n",
    "- **Patterns**. Identify and utilize reusable solutions to commonly occurring problems.\n",
    "\n",
    "- **Representation**. Represent the problem in terms of key data objects, bypassing irrelevant details.\n",
    "\n",
    "- **Algorithms**. Express solutions as instructions or recipes using flow charts or pseudocode.\n",
    "\n",
    "Now lets list some initial thoughts on how to apply these ideas to the problem at hand.\n"
   ]
  },
  {
   "cell_type": "markdown",
   "metadata": {},
   "source": [
    "### 2.2 Decomposition\n",
    "\n",
    "We can decompose the problem into a number of smaller parts as follows:\n",
    "\n",
    "- **Data import**. The input data comes in the form of GeoJSON (`.geojson`) and tabular (`.csv`) files - when reading these files we need to consider how best to represent the data they contain in terms of Python objects. An important factor in this decision is any constraint imposed by the display - we must be able to provide the data objects in the correct form for display. In an ideal world we want to use the data objects directly in the form they are read from file. In the basemap it turns out that most of the data **can** be used directly, but as noted in Section 2.4 it will also be necessary to modify the GeoJSON data for display.  \n",
    "\n",
    "- **Graphics**. The basemap problem is demanding in terms of the requirements for the display and all the interactive features specified in the problem statement. We need to decide how best to make the graphics display, but luckily the Plotly package can handle these requirements. In particular we will use Plotly's Mapbox features to provide the background cultural/satellite imagery and interactivity.   \n",
    "\n",
    "- **Sharing**. We need to provide a way to share the basemap display. One way is the export the basemap as a (`.html`) file - we can send this file to others to view in their own web browser - in contrast to a static image this preserves the interactive features.  \n",
    "\n",
    "- **Reuse**. To reuse the basemap at a later date, we can export the basemap as a (`.json`) file containing a definition of the map. This allows us to easily recreate the basemap in a Python notebook without knowing anything about the code that was used to make the basemap in the first place.  \n",
    "\n",
    "- **Extensibility**. The process of extending the basemap, by adding new display elements like wells and seismic survey lines, is made easy .\n"
   ]
  },
  {
   "cell_type": "markdown",
   "metadata": {},
   "source": [
    "\n",
    "### 2.3 Patterns\n",
    "\n",
    "A recurring pattern we need in our solution is:\n",
    "\n",
    "1. Read objects from an input (`.geojson`) data file.  \n",
    "\n",
    "2. Convert objects to a representation that can be displayed in the basemap.   \n",
    "\n",
    "3. Add objects to the basemap.  \n",
    "\n",
    "4. Adjust the styling (colours, opacity, lines etc) of the object display to suit our preferences.  \n",
    "\n",
    "This is a pattern we need to repeat for each type of object - quadrants, licence blocks, and field determinations, field areas. The order in which we add objects to the basemap is important as later objects overlay (and can obscure) earlier objects. A good choice for this problem is to add objects in the following order:\n",
    "\n",
    "1. Quadrants.  \n",
    "\n",
    "2. Licence blocks.  \n",
    "\n",
    "3. Field determinations.  \n",
    "\n",
    "4. Field areas.\n",
    "\n",
    "and when we come to extend the map later on, we can add:\n",
    "\n",
    "5. Well surface locations.  \n",
    "\n",
    "6. Seismic survey lines."
   ]
  },
  {
   "cell_type": "markdown",
   "metadata": {},
   "source": [
    "### 2.4 Representation of data objects\n",
    "\n",
    "- **GeoJSON data**. The GeoJSON input data is really convenient for this project because it easiliy represents the complex data structures comprising both nested geometry and property information. One complicating factor is that we will need to change the representation of this data to create a *flattened* or tabular version of the object properties. This is a constraint imposed by the way the Plotly Mapbox display expects to receive data for a filled polygon (or choropleth) display.  \n",
    "\n",
    "- **Flattening**. In the same folder as this notebook is a module called `flatten_geojson.py` which defines a function for performing this flattening operation. It takes an object as its argument and returns a `pandas` data frame containing the properties in a tabular form. This is simply an alternative representation of the object properties, the data values themselves remain unchanged.  \n",
    "\n",
    "- **Tabular data**. The well data is provided in a (`.csv`) file, and after being loaded into a `pandas` data frame can be directly displayed on the basemap without any modification.  \n",
    "\n",
    "The same remark applies to the seismic line CDP locations. This data is also provided in a (`.csv`) file and once in a `pandas` data frame can be directly displayed on the basemap.\n"
   ]
  },
  {
   "cell_type": "markdown",
   "metadata": {},
   "source": [
    "### 2.5 Representation of basemap graphics\n",
    "\n",
    "Another question of representation concerns how best to represent the basemap graphics in order to satisfy the interactivity, reuse, sharing, and extensibility requirements. There are several options available, as follows:\n",
    "\n",
    "- **Pixel-based image**. The basemap graphics can be saved to a pixel-based image and stored in variety of formats like (`.png`) or (`.jpg`) using the `write_image()` function provided by Plotly. One limitation is that this representation fails on the multi-resolution display requirement as the image will appear pixelated beyond a certain zoom level. In fact, this representation fails to satisfy most of the requirements outlined in the problem statement.  \n",
    "\n",
    "- **HTML file**. The basemap graphics can be saved to a (`.html`) file using the `write_html()` function provided by Plotly. This satisfies the multi-resolution display requirement along with the requirements for interactivity and sharing. The sharing requirement is easily satisfied by simply sharing the (`.html`) file with a colleague e.g., by email. One limitation is that it does not satisfy the extensibility requirement, as it is not suited to making further modifications in a notebook.  \n",
    "\n",
    "- **JSON file**. The basemap graphics can be saved to a (`.json`) file using the `write_json()` function provided by Plotly. This representation can be read in a notebook to recreate the basemap and make further additions, satisfying the requirements for reuse and extensibility. The file can also be shared with colleagues so that they can also recreate and manipulate the basemap in their own notebooks.  "
   ]
  },
  {
   "cell_type": "markdown",
   "metadata": {},
   "source": [
    "---\n",
    "## 3. Getting  started"
   ]
  },
  {
   "cell_type": "markdown",
   "metadata": {},
   "source": [
    "\n",
    "The following cells import the modules we are going to need, and read in an access token (a licence key) from a file so that we can use satellite imagery as a background to our basemap."
   ]
  },
  {
   "cell_type": "markdown",
   "metadata": {},
   "source": [
    "#### Cell 3.1 Import the required modules\n",
    "\n",
    "Import the modules used in this notebook. "
   ]
  },
  {
   "cell_type": "code",
   "execution_count": null,
   "metadata": {},
   "outputs": [],
   "source": [
    "import os\n",
    "import numpy as np\n",
    "import pandas as pd\n",
    "import plotly.graph_objects as go \n",
    "import plotly.io as pio"
   ]
  },
  {
   "cell_type": "markdown",
   "metadata": {},
   "source": [
    "#### Cell 3.2 Read the Mapbox access token\n",
    "\n",
    "We need an access token so that we can use Mapbox's satellite and cultural imagery in our basemap. A token is provided with these course materials in the `assets` folder."
   ]
  },
  {
   "cell_type": "code",
   "execution_count": null,
   "metadata": {},
   "outputs": [],
   "source": [
    "#\n",
    "# read the mapbox access token to enable 'satellite' and 'satellite-streets' styles:\n",
    "#\n",
    "with open('../../assets/mapbox-access-token.txt') as f:\n",
    "    token = f.read()"
   ]
  },
  {
   "cell_type": "markdown",
   "metadata": {},
   "source": [
    "#### Cell 3.3 Set the default renderer  \n",
    "\n",
    "The `notebook` renderer works well in this basemap exercise because the graphics output expands to fill the available width."
   ]
  },
  {
   "cell_type": "code",
   "execution_count": null,
   "metadata": {},
   "outputs": [],
   "source": [
    "pio.renderers.default = 'notebook'"
   ]
  },
  {
   "cell_type": "markdown",
   "metadata": {},
   "source": [
    "--- \n",
    "## 4. Represent input data as Python objects "
   ]
  },
  {
   "cell_type": "markdown",
   "metadata": {},
   "source": [
    "#### Cell 4.1 Read quadrants dataset\n",
    "\n",
    "In the same folder as this notebook, you will find the file `OGA_Quadrants_WGS84.geojson` containing the quadrant data for the UKCS. Load the objects from file and assign the result to a variable called `quads`.  \n",
    "\n",
    "Hint: you saw how to do this in Python 102. Since this is JSON data you will need to start with an `import json` statement."
   ]
  },
  {
   "cell_type": "code",
   "execution_count": null,
   "metadata": {},
   "outputs": [],
   "source": [
    "# type your solution here\n"
   ]
  },
  {
   "cell_type": "markdown",
   "metadata": {},
   "source": [
    "#### Cell 4.2 Flatten the hierarchy of objects in the quadrants dataset\n",
    "\n",
    "The code in this cell imports the `flatten_geojson()` function and uses it to make a data frame with one row per quadrant, and one column per quadrant property. The result is called `df_quads` and we can think of it as an alternative representation of the `quads` object."
   ]
  },
  {
   "cell_type": "code",
   "execution_count": null,
   "metadata": {},
   "outputs": [],
   "source": [
    "from flatten_geojson import flatten_geojson\n",
    "\n",
    "df_quads = flatten_geojson(quads)\n",
    "df_quads.info()"
   ]
  },
  {
   "cell_type": "markdown",
   "metadata": {},
   "source": [
    "#### Cell 4.3 What's in the quadrants dataset?\n",
    "\n",
    "Print the first few rows of `df_quads`."
   ]
  },
  {
   "cell_type": "code",
   "execution_count": null,
   "metadata": {},
   "outputs": [],
   "source": [
    "df_quads.head()"
   ]
  },
  {
   "cell_type": "markdown",
   "metadata": {},
   "source": [
    "#### Cell 4.4 Read licence blocks dataset\n",
    "\n",
    "In the same folder as this notebook, you will find the file `OGA_Licences_WGS84.geojson` containing the licence block data for the UKCS. Load the objects from file and assign the result to a variable called `licences`. Use the same pattern you used for the quadrants in Cell 4.1."
   ]
  },
  {
   "cell_type": "code",
   "execution_count": null,
   "metadata": {},
   "outputs": [],
   "source": [
    "# type your solution here\n"
   ]
  },
  {
   "cell_type": "markdown",
   "metadata": {},
   "source": [
    "#### Cell 4.5 Flatten the hierarchy of objects in the licence blocks dataset\n",
    "\n",
    "Use the `flatten_geojson()` function following the same pattern as in Cell 4.2 to make a data frame with one row per license block, and one column per license block property. Call the result `df_licences`. Just like before we can think of it as an alternative representation of the `licences` object."
   ]
  },
  {
   "cell_type": "code",
   "execution_count": null,
   "metadata": {},
   "outputs": [],
   "source": [
    "# type your solution here\n"
   ]
  },
  {
   "cell_type": "markdown",
   "metadata": {},
   "source": [
    "#### Cell 4.6 What's in the licence block dataset?  \n",
    "\n",
    "Print the first few rows of `df_licences`."
   ]
  },
  {
   "cell_type": "code",
   "execution_count": null,
   "metadata": {},
   "outputs": [],
   "source": [
    "df_licences.head()"
   ]
  },
  {
   "cell_type": "markdown",
   "metadata": {},
   "source": [
    "#### Cell 4.7 Read offshore field determinations dataset   \n",
    "\n",
    "In the same folder as this notebook, you will find the file `OGA_Offshore_FieldDets_WGS84.geojson` containing the field determinations data for the UKCS. Load the objects from file and assign the result to a variable called `dets`. Use the same pattern you used for the quadrants and licence blocks in cells 4.1 and 4.4."
   ]
  },
  {
   "cell_type": "code",
   "execution_count": null,
   "metadata": {},
   "outputs": [],
   "source": [
    "# type your solution here\n"
   ]
  },
  {
   "cell_type": "markdown",
   "metadata": {},
   "source": [
    "#### Cell 4.8 Flatten the offshore field determinations dataset\n",
    "\n",
    "Use the `flatten_geojson()` function following the same pattern as in Cell 4.2 to make a data frame with one row per field determination, and one column per field determination property. Call the result `df_dets`. Just like before we can think of it as an alternative representation of the `dets` object."
   ]
  },
  {
   "cell_type": "code",
   "execution_count": null,
   "metadata": {},
   "outputs": [],
   "source": [
    "# type your solution here\n"
   ]
  },
  {
   "cell_type": "markdown",
   "metadata": {},
   "source": [
    "#### Cell 4.9 What's in the offshore field determinations dataset  \n",
    "\n",
    "Print the first few rows of `df_dets`."
   ]
  },
  {
   "cell_type": "code",
   "execution_count": null,
   "metadata": {},
   "outputs": [],
   "source": [
    "df_dets.head()"
   ]
  },
  {
   "cell_type": "markdown",
   "metadata": {},
   "source": [
    "#### Cell 4.10 Read offshore fields dataset\n",
    "\n",
    "In the same folder as this notebook, you will find the file `OGA_Offshore_Fields_WGS84.geojson` containing the offshore fields data for the UKCS. Load the objects from file and assign the result to a variable called `fields`. Use the same pattern you used for the quadrants, licence blocks, and field determinations in cells 4.1, 4.4, and 4.7."
   ]
  },
  {
   "cell_type": "code",
   "execution_count": null,
   "metadata": {},
   "outputs": [],
   "source": [
    "# type your solution here\n"
   ]
  },
  {
   "cell_type": "markdown",
   "metadata": {},
   "source": [
    "#### Cell 4.11 Flatten the offshore fields dataset \n",
    "\n",
    "Use the `flatten_geojson()` function following the same pattern as in Cell 4.2 to make a data frame with one row per offshore field, and one column per offshore field property. Call the result `df_fields`. Just like before we can think of it as an alternative representation of the `fields` object."
   ]
  },
  {
   "cell_type": "code",
   "execution_count": null,
   "metadata": {},
   "outputs": [],
   "source": [
    "# type your solution here\n"
   ]
  },
  {
   "cell_type": "markdown",
   "metadata": {},
   "source": [
    "#### Cell 4.12 What's in the offshore fields dataset?  \n",
    "\n",
    "Print the first few rows of `df_fields`."
   ]
  },
  {
   "cell_type": "code",
   "execution_count": null,
   "metadata": {},
   "outputs": [],
   "source": [
    "df_fields.head()"
   ]
  },
  {
   "cell_type": "markdown",
   "metadata": {},
   "source": [
    "#### Cell 4.13 What types of offshore fields are there?\n",
    "\n",
    "The following cell uses the `unique()` function to report the values taken by the `FIELDTYPE` variable. These values represent the dominant type of hydrocarbon produced in each field and we will use this information to colour code field areas on the basemap."
   ]
  },
  {
   "cell_type": "code",
   "execution_count": null,
   "metadata": {},
   "outputs": [],
   "source": [
    "df_fields.FIELDTYPE.unique()"
   ]
  },
  {
   "cell_type": "markdown",
   "metadata": {},
   "source": [
    "We can also drill a bit deeper and report the number of fields of each type using the `value_counts()` function as follows:"
   ]
  },
  {
   "cell_type": "code",
   "execution_count": null,
   "metadata": {},
   "outputs": [],
   "source": [
    "df_fields.FIELDTYPE.value_counts()"
   ]
  },
  {
   "cell_type": "markdown",
   "metadata": {},
   "source": [
    "---\n",
    "## 5. Creating the basemap\n"
   ]
  },
  {
   "cell_type": "markdown",
   "metadata": {},
   "source": [
    "\n",
    "In this section we create the basemap using the data prepared in the previous section. "
   ]
  },
  {
   "cell_type": "markdown",
   "metadata": {},
   "source": [
    "#### Cell 5.1 Create initial basemap with quadrants\n",
    "\n",
    "In the following cell there are 6 numbered sections that:\n",
    "\n",
    "1. Create the initial basemap figure.  \n",
    "\n",
    "2. Add the quadrants as filled polygons.   \n",
    "\n",
    "3. Style the map background.  \n",
    "\n",
    "4. Style the map legend.  \n",
    "\n",
    "5. Add an attribution statement for the data source.  \n",
    "\n",
    "6. Render the basemap in the cell output.  \n",
    "\n",
    "**Instructions**\n",
    "\n",
    "In section (2) the quadrants are added to the display using the `add_choroplethmapbox()` function. A choropleth is just another name for a filled polygon. Assign the `quads` variable to the `geojson` argument, and `df_quads.OBJECTID` to the `locations` argument. This has the effect of using the geometry provided by the `quads` object, and controlling which parts of the geometry as displayed using the quadrants listed by `df_quads.OBJECTID`. \n",
    "\n",
    "In section (3) use the `mapbox_style` parameter to set the background cultural/satellite imagery. There are many options available, but `\"satellite-streets\"` is a good choice, other nice options include `\"open-street-map\"` or `\"outdoors\"`. \n",
    "\n",
    "In section (4), use the `legend_title_text` parameter to give the map a title and author name.\n",
    "\n",
    "When complete you should see the initial basemap in the output cell. Try testing the interactive features such as pan, zoom, and tilt. Also use the legend to show/hide the quadrants. With the quadrants visible, you should also try hovering the mouse over a quadrant to see its number. "
   ]
  },
  {
   "cell_type": "code",
   "execution_count": null,
   "metadata": {},
   "outputs": [],
   "source": [
    "#\n",
    "# 1. create an empty figure:\n",
    "#\n",
    "fig = go.Figure()\n",
    "\n",
    "#\n",
    "# 2. add quadrants as filled polygons (for which a choropleth is just a fancy name):\n",
    "#\n",
    "# complete your solution by setting geojson and locations arguments\n",
    "fig.add_choroplethmapbox(\n",
    "    geojson=# type your solution here,\n",
    "    locations=# type your solution here,\n",
    "    z=np.zeros_like(df_quads.QUAD_NO),\n",
    "    name='Quadrants',\n",
    "    colorscale=[[0, 'LightSkyBlue'], [1, 'LightSkyBlue']],\n",
    "    visible=True,\n",
    "    marker_opacity=0.2,\n",
    "    marker_line_width=1,\n",
    "    marker_line_color='White',\n",
    "    showlegend=True,\n",
    "    showscale=False,\n",
    "    hovertext=df_quads.QUAD_NO,\n",
    "    hovertemplate='Quad %{hovertext}<extra></extra>'\n",
    ")\n",
    "\n",
    "#\n",
    "# 3. set background style, default zoom level, default center, and remove plot margins to make better use of the screen space:\n",
    "#\n",
    "# complete your solution by setting a mapbox_style\n",
    "fig.update_layout(\n",
    "    mapbox_style=# type your solution here,\n",
    "    mapbox_accesstoken=token,\n",
    "    mapbox_zoom=4,\n",
    "    mapbox_center={\"lat\": 56.00, \"lon\": -2.00},\n",
    "    margin={\"r\":0,\"t\":0,\"l\":0,\"b\":0}\n",
    ")\n",
    "\n",
    "#\n",
    "# 4. style the legend:\n",
    "#\n",
    "# complete your solution by setting legend_title_text\n",
    "fig.update_layout(\n",
    "    showlegend=True,\n",
    "    legend_title_text=# type your solution here,\n",
    "    legend_title_font_color='White',\n",
    "    legend_title_font_family='Helvetica',\n",
    "    legend_font_color='White',\n",
    "    legend_font_family='Helvetica',\n",
    "    legend_x=0.005,\n",
    "    legend_y=0.995,\n",
    "    legend_bgcolor='Black'\n",
    ")\n",
    "\n",
    "#\n",
    "# 5. add an attribution statement for the data:\n",
    "#\n",
    "fig.add_annotation(\n",
    "    x=+0.05,\n",
    "    y=+0.005,\n",
    "    showarrow=False,\n",
    "    text=\"Contains information provided by the Oil and Gas Authority.\",\n",
    "    font_color='White',\n",
    "    font_size=10,\n",
    "    font_family='Helvetica',\n",
    "    xref=\"paper\",\n",
    "    yref=\"paper\",\n",
    "    xanchor='left',\n",
    "    yanchor='bottom'\n",
    ")\n",
    "\n",
    "#\n",
    "# 6. show basemap:\n",
    "#\n",
    "fig.show()"
   ]
  },
  {
   "cell_type": "markdown",
   "metadata": {},
   "source": [
    "#### Cell 5.2 Add licence blocks to basemap\n",
    "\n",
    "In the following code cell, add the licence blocks to the display using the `add_choroplethmapbox()` function. Assign the `licences` variable to the `geojson` argument, and `df_licences.OBJECTID` to the `locations` argument. This has the effect of using the geometry provided by the `licences` object, and controlling which parts of the geometry are displayed using the licences listed by `df_licences.OBJECTID`. This is same pattern used in the previous cell."
   ]
  },
  {
   "cell_type": "code",
   "execution_count": null,
   "metadata": {},
   "outputs": [],
   "source": [
    "#\n",
    "# add licence blocks as filled polygons as a layer on top of the quadrants:\n",
    "#\n",
    "# complete your solution by setting geojson and locations arguments\n",
    "fig.add_choroplethmapbox(\n",
    "    geojson=# type your solution here,\n",
    "    locations=# type your solution here,\n",
    "    z=np.zeros_like(df_licences.RNDNO),\n",
    "    name='Licences',\n",
    "    colorscale=[[0,'LightYellow'],[1,'LightYellow']],\n",
    "    visible=True,\n",
    "    marker_opacity=0.7,\n",
    "    marker_line_width=0.5,\n",
    "    marker_line_color='White',\n",
    "    showlegend=True,\n",
    "    showscale=False,\n",
    "    hovertext=df_licences.BLOCKREF,\n",
    "    hovertemplate='Licence %{hovertext}<extra></extra>'\n",
    ")\n",
    "\n",
    "#\n",
    "# show basemap:\n",
    "#\n",
    "fig.show()"
   ]
  },
  {
   "cell_type": "markdown",
   "metadata": {},
   "source": [
    "#### Cell 5.3 Add field determinations to basemap\n",
    "\n",
    "In the following code cell, add the field determinations to the display using the `add_choroplethmapbox()` function. Assign the `dets` variable to the `geojson` argument, and `df_dets.OBJECTID` to the `locations` argument. This has the effect of using the geometry provided by the `dets` object, and controlling which parts of the geometry are displayed using the determinations listed by `df_dets.OBJECTID`. This is same pattern used in the previous cells."
   ]
  },
  {
   "cell_type": "code",
   "execution_count": null,
   "metadata": {},
   "outputs": [],
   "source": [
    "#\n",
    "# add field determinations as outline polygons as a layer on top of the licence blocks:\n",
    "#\n",
    "# complete your solution by setting geojson and locations arguments\n",
    "fig.add_choroplethmapbox(\n",
    "    geojson=# type your solution here,\n",
    "    locations=# type your solution here,\n",
    "    z=np.zeros_like(df_dets.OBJECTID),\n",
    "    name='Determinations',\n",
    "    colorscale=[[0,'rgba(0,0,0,0)'],[1,'rgba(0,0,0,0)']],\n",
    "    visible=True,\n",
    "    marker_opacity=1,\n",
    "    marker_line_width=1,\n",
    "    marker_line_color='Magenta',\n",
    "    legendgroup='Determinations',\n",
    "    showlegend=False,\n",
    "    showscale=False,\n",
    "    hovertext=df_dets.FIELDNAME,\n",
    "    hovertemplate='Determination %{hovertext}<extra></extra>'\n",
    ")\n",
    "\n",
    "#\n",
    "# add an empty line so that determinations are indicated by a line in the map legend:\n",
    "#\n",
    "fig.add_scattermapbox(\n",
    "    lon=[np.nan],\n",
    "    lat=[np.nan],\n",
    "    name='Determinations',\n",
    "    marker_color='Magenta',\n",
    "    legendgroup='Determinations',\n",
    "    mode='lines',\n",
    "    showlegend=True\n",
    ")\n",
    "    \n",
    "#\n",
    "# show basemap:\n",
    "#\n",
    "fig.show()"
   ]
  },
  {
   "cell_type": "markdown",
   "metadata": {},
   "source": [
    "#### Cell 5.4 Add field areas to basemap\n",
    "\n",
    "In the following code cell, we're going to add the field areas to the display using the `add_choroplethmapbox()` function just like we did for quadrants, licence blocks, and determinations. This is the same pattern used in the previous cells, except that GAS, COND and OIL fields will be added in separate steps so that we can assign a different colour to each of the three fields types.\n",
    "\n",
    "In the following code cell, we define a dictionary called `fieldtype_colour_map` which maps the different values taken by `FIELDTYPE` to a display colour.\n",
    "\n",
    "Fields are added to the display by looping over the dictionary, calling the `query()` function to find fields of a particular type, and calling the `add_choroplethmapbox()` function to add just those fields with the specified colour. \n"
   ]
  },
  {
   "cell_type": "code",
   "execution_count": null,
   "metadata": {},
   "outputs": [],
   "source": [
    "#\n",
    "# make a colour map for 'FIELDTYPE':\n",
    "#\n",
    "fieldtype_colour_map = {\n",
    "    'GAS':  'Salmon',\n",
    "    'COND': 'NavajoWhite',\n",
    "    'OIL':  'YellowGreen',\n",
    "}\n",
    "\n",
    "#\n",
    "# loop over each field type (GAS,COND,OIL):\n",
    "#\n",
    "for key,value in fieldtype_colour_map.items():\n",
    "    #\n",
    "    # get all the field areas of `FIELDTYPE == key`:\n",
    "    #\n",
    "    df_fields_type = df_fields.query('FIELDTYPE == @key')\n",
    "\n",
    "    #\n",
    "    # add fields areas of `FIELDTYPE == key` as filled polygons with the specified colour: \n",
    "    #\n",
    "    fig.add_choroplethmapbox(\n",
    "        geojson=fields,\n",
    "        locations=df_fields_type.OBJECTID,\n",
    "        z=np.zeros_like(df_fields_type.OBJECTID),\n",
    "        name=key,\n",
    "        colorscale=[[0,value],[1,value]],\n",
    "        visible=True,\n",
    "        marker_opacity=0.8,\n",
    "        marker_line_width=0.5,\n",
    "        marker_line_color='white',\n",
    "        showlegend=True,\n",
    "        legendgroup=key,\n",
    "        showscale=False,\n",
    "        hovertext=df_fields_type.FIELDNAME,\n",
    "        hovertemplate='Field %{hovertext}<extra></extra>'\n",
    "    )\n",
    "\n",
    "#\n",
    "# show basemap:\n",
    "#\n",
    "fig.show()"
   ]
  },
  {
   "cell_type": "markdown",
   "metadata": {},
   "source": [
    "#### Cell 5.5 Export basemap\n",
    "\n",
    "The following cell exports the basemap in the formats (`.png`, `.html`, and `.json`) discussed in Section 2.5:  \n"
   ]
  },
  {
   "cell_type": "code",
   "execution_count": null,
   "metadata": {},
   "outputs": [],
   "source": [
    "#\n",
    "# create a folder for the exported basemap if it doesn't already exist:\n",
    "#\n",
    "if not os.path.exists('./figure-exports'):\n",
    "    os.mkdir('./figure-exports')\n",
    "\n",
    "#\n",
    "# export basemap as a (.png) file:\n",
    "#\n",
    "fig.write_image('./figure-exports/ukcs-basemap.png',scale=4)\n",
    "\n",
    "#\n",
    "# export basemap as a (.html) file:\n",
    "#\n",
    "fig.write_html('./figure-exports/ukcs-basemap.html')\n",
    "\n",
    "#\n",
    "# export basemap as a (.json) file with pretty indentation:\n",
    "#\n",
    "fig.write_json('./figure-exports/ukcs-basemap.json',pretty=True)"
   ]
  },
  {
   "cell_type": "markdown",
   "metadata": {},
   "source": [
    "**Notes**: (i) Using `scale=4` in `write_image()` is optional and boosts the image resolution so that it can be magnified more before pixelation becomes apparent; this also results in proportionally larger file sizes. (ii) Using `pretty=True` in `write_json()` is optional and aimed at making the resulting (`.json`) file more readable for human users; this does not impact the ability to reuse the basemap definition at a later date."
   ]
  },
  {
   "cell_type": "markdown",
   "metadata": {},
   "source": [
    "#### Cell 5.6 Browse the exported basemap\n",
    "\n",
    "To verify the basemap export has worked as expected go to the `./figure-exports` folder in the same location as this notebook and open previews of the exported files by clicking on the (`.png`) and (`.html`) files that were created in the previous cell. \n",
    "\n",
    "Note that the (`.png`) preview displays a static image that only supports pan and zoom, and eventually becomes pixelated at higher zoom levels. In contrast the (`.html`) preview provides a multi-resolution interactive basemap. \n",
    "\n",
    "You can also click on the (`.json`) file to confirm that it is a plain text JSON representation of the basemap.  "
   ]
  },
  {
   "cell_type": "markdown",
   "metadata": {},
   "source": [
    "---\n",
    "## 6. Using the basemap"
   ]
  },
  {
   "cell_type": "markdown",
   "metadata": {},
   "source": [
    "A major requirement for the basemap task is the ability to recreate the basemap by loading the (`.json`) basemap definition from file and then overlay additional information. In this section we explore how to do this with examples of:\n",
    "\n",
    "- Adding well surface locations from the Oil and Gas Authority dataset of over 12,300 wells.  \n",
    "\n",
    "- Adding seismic line locations from a 2d survey of the East Shetland Platform, again using data provided by the Oil and Gas Authority.  \n",
    "\n",
    "The final step will be to write an updated definition of the UKCS basemap to a (`.json`) file, including the additional well and seismic data. This updated definition can be used as the starting point for further additions in future."
   ]
  },
  {
   "cell_type": "markdown",
   "metadata": {},
   "source": [
    "#### Cell 6.1 Read UKCS basemap from a (`.json`) file\n",
    "\n",
    "The first step is to load your UKCS basemap from the (`.json`) file you created in the previous section.\n",
    "\n",
    "In the following cell we read the basemap definition and display the figure to confirm that it appears as expected.\n"
   ]
  },
  {
   "cell_type": "code",
   "execution_count": null,
   "metadata": {},
   "outputs": [],
   "source": [
    "#\n",
    "# read the ukcs basemap from existing (.json) file:\n",
    "#\n",
    "fig = pio.read_json('./figure-exports/ukcs-basemap-solution.json')\n",
    "\n",
    "#\n",
    "# show figure:\n",
    "#\n",
    "fig.show()"
   ]
  },
  {
   "cell_type": "markdown",
   "metadata": {},
   "source": [
    "#### Cell 6.2 Read well surface location data\n",
    "\n",
    "In the same folder as this notebook is a file of well header data called `OGA_Wells_WGS84.csv`. This file contains the well surface locations and other data for over 12,000 wells on the UK Continental Shelf. You have already seen this dataset in the workshop `workshop-toolkit-sanddance`.\n",
    "\n",
    "In the following cell, read the file contents into a data frame assigned to a variable called `df_wells`."
   ]
  },
  {
   "cell_type": "code",
   "execution_count": null,
   "metadata": {},
   "outputs": [],
   "source": [
    "#\n",
    "# read the well header data from (.csv) file into a pandas data frame:\n",
    "#\n",
    "# complete your solution by reading the file into a data frame\n",
    "df_wells = \n",
    "\n",
    "#\n",
    "# report info about the columns:\n",
    "#\n",
    "df_wells.info()"
   ]
  },
  {
   "cell_type": "markdown",
   "metadata": {},
   "source": [
    "#### Cell 6.3 What's in the well headers dataset?\n",
    "\n",
    "The following cell reports the first few rows of the dataset. The important things to note are the that the `X` and `Y` columns represent the longitude and latitude of the surface location, and the `WELLREGNO` column gives the well name. There are many other columns in this dataset which we will revisit in the workshop `workshop-ukcs-well-headers`, but for now its just `X`,`Y`, and `WELLREGNO` that are of interest for the basemap.\n",
    "\n",
    "The `X` and `Y` coordinates are in the WGS84 coordinate reference system, so we can use these values directly for plotting on the basemap as the convention used throughout Plotly Mapbox also WGS84.\n",
    "\n",
    "Recall that you can also view the contents of the well headers dataset using the *Variables* button on the menu bar at the top of this editor."
   ]
  },
  {
   "cell_type": "code",
   "execution_count": null,
   "metadata": {},
   "outputs": [],
   "source": [
    "df_wells.head()"
   ]
  },
  {
   "cell_type": "markdown",
   "metadata": {},
   "source": [
    "#### Cell 6.4 Add well surface locations to basemap\n",
    "\n",
    "The code in the following cell adds the well locations as markers overlaying the basemap.\n",
    "\n",
    "The `add_scattermapbox()` function layers a scatter plot of well locations on top of the basemap.\n",
    "\n",
    "The `name` parameter is a string that controls how the well location dataset is labelled in the map legend.\n",
    "\n",
    "The `marker_color`, `marker_size`, and `marker_opacity` parameters control the styling of the well markers. You can customize the marker appearance to your own taste by modifying these parameters.\n",
    "\n",
    "The `text`, `textposition`, `textfont_color`, and `textfont_size` parameters control the styling of the text posted at the well marker locations. You can customize the text appearance to your own taste by modifying these parameters. Note that text overplotting is avoided by an algorithm that shows/hides text postings as a function of the zoom level. "
   ]
  },
  {
   "cell_type": "code",
   "execution_count": null,
   "metadata": {},
   "outputs": [],
   "source": [
    "#\n",
    "# overlay well surface locations:\n",
    "#\n",
    "fig.add_scattermapbox(\n",
    "    lon=df_wells.X,\n",
    "    lat=df_wells.Y,\n",
    "    name='Well surface locations',\n",
    "    marker_color='OrangeRed',\n",
    "    marker_size=5,\n",
    "    marker_opacity=1,\n",
    "    text=df_wells.WELLREGNO,\n",
    "    textposition='top right',\n",
    "    textfont_color='white',\n",
    "    textfont_size=11,\n",
    "    mode='markers+text',\n",
    "    hovertemplate='Well %{text}<br>(%{lon:.6f}&deg;E,%{lat:.6f}&deg;N)<extra></extra>'\n",
    ")\n",
    "\n",
    "#\n",
    "# show figure:\n",
    "#\n",
    "fig.show()"
   ]
  },
  {
   "cell_type": "markdown",
   "metadata": {},
   "source": [
    "#### Cell 6.5 Read East Shetland Platform survey line location data\n",
    "\n",
    "In the following code, we read a (`.csv`) file containing trace location data for 2D seismic lines in the East Shetland Platform survey.\n",
    "\n",
    "In the same folder as this notebook is a file of cdp locations for 2D seismic lines in the East Shetland Platform survey called `esp-cdp-locations-wgs84.csv`.\n",
    "\n",
    "In the following cell, read the file contents into a data frame assigned to a variable called `df_esp`."
   ]
  },
  {
   "cell_type": "code",
   "execution_count": null,
   "metadata": {},
   "outputs": [],
   "source": [
    "# complete your solution by reading the file into a data frame\n",
    "df_esp = "
   ]
  },
  {
   "cell_type": "markdown",
   "metadata": {},
   "source": [
    "#### Cell 6.6 What's in the line location dataset?\n",
    "\n",
    "The following cell reports the first few rows of the dataset. The important thing to note is that the coordinates were extracted from trace headers in a set of SEG-Y files, and were originally stored in UTM Zone 30N coordinates. The coordinates have been converted to WGS84. Both sets are available:\n",
    "\n",
    "- UTM Zone 30N (`CDP_X`,`CDP_Y`)\n",
    "\n",
    "- WGS84 (`CDP_LON`,`CDP_LAT`)\n",
    "\n",
    "The convention used throughout Plotly Mapbox figures is for coordinates to be provided in WGS84, so we must use the (`CDP_LON`,`CDP_LAT`) coordinates to display the CDP locations on the basemap.\n",
    "\n",
    "Recall that you can also view the contents of the line location dataset using the *Show variables active in jupyter kernel* button on the menu bar at the top of this editor.\n"
   ]
  },
  {
   "cell_type": "code",
   "execution_count": null,
   "metadata": {},
   "outputs": [],
   "source": [
    "df_esp.head()"
   ]
  },
  {
   "cell_type": "markdown",
   "metadata": {},
   "source": [
    "#### Cell 6.7 Add seismic survey lines to basemap\n",
    "\n",
    "The code in the following cell adds the seismic survey lines as markers overlaying the basemap.\n",
    "\n",
    "The `add_scattermapbox()` function layers a scatter plot of seismic lines on top of the basemap.\n",
    "\n",
    "The `name` parameter is a string that controls how the seismic survey lines dataset is labelled in the map legend.\n",
    "\n",
    "The `mode` parameter controls the appearance of the seismic lines, we use the `lines+markers` option to show the CDP markers joined with a line. \n",
    "\n",
    "The `line_color` and `line_width` parameters control the styling of seismic lines. The `marker_symbol`, `marker_color`, and `marker_size`, parameters control the styling of the CDP markers. You can customize their appearance to your own taste by modifying these parameters."
   ]
  },
  {
   "cell_type": "code",
   "execution_count": null,
   "metadata": {},
   "outputs": [],
   "source": [
    "#\n",
    "# add CDP locations using the same decimated dataset:\n",
    "#\n",
    "fig.add_scattermapbox(\n",
    "    name='East Shetland Platform Survey',\n",
    "    lon=df_esp.CDP_LON,\n",
    "    lat=df_esp.CDP_LAT,\n",
    "    customdata=df_esp,\n",
    "    hovertemplate='<b>%{customdata[0]}</b><br>Line number %{customdata[1]}<br>Trace %{customdata[3]}<br>CDP %{customdata[2]}<br>(%{lon:.6f}&deg;E, %{lat:.6f}&deg;N)<extra></extra>',\n",
    "    mode='lines+markers',\n",
    "    line_color='chartreuse',\n",
    "    line_width=1,\n",
    "    marker_symbol='circle',\n",
    "    marker_color='chartreuse',\n",
    "    marker_size=3,\n",
    "    connectgaps=False\n",
    ")\n",
    "\n",
    "#\n",
    "# show figure:\n",
    "#\n",
    "fig.show()"
   ]
  },
  {
   "cell_type": "markdown",
   "metadata": {},
   "source": [
    "#### Cell 6.8 Export updated basemap\n",
    "\n",
    "Finally, the following cell exports the updated basemap in `.png`, `.html`, and `.json` format:  "
   ]
  },
  {
   "cell_type": "code",
   "execution_count": null,
   "metadata": {},
   "outputs": [],
   "source": [
    "#\n",
    "# create a folder for the exported basemap if it doesn't already exist:\n",
    "#\n",
    "if not os.path.exists('./figure-exports'):\n",
    "    os.mkdir('./figure-exports')\n",
    "\n",
    "#\n",
    "# export updated basemap as a (.png) file:\n",
    "#\n",
    "fig.write_image('./figure-exports/ukcs-basemap-updated.png',scale=4)\n",
    "\n",
    "#\n",
    "# export updated basemap as a (.html) file:\n",
    "#\n",
    "fig.write_html('./figure-exports/ukcs-basemap-updated.html')\n",
    "\n",
    "#\n",
    "# export updated basemap as a (.json) file:\n",
    "#\n",
    "fig.write_json('./figure-exports/ukcs-basemap-updated.json',pretty=True)"
   ]
  },
  {
   "cell_type": "markdown",
   "metadata": {},
   "source": [
    "**Notes**: As before, (i) using `scale=4` in `write_image()` is optional and boosts the image resolution so that it can be magnified more before pixelation becomes apparent, and (ii) using `pretty=True` in `write_json()` is optional and aimed at making the resulting (`.json`) file more readable for human users."
   ]
  },
  {
   "attachments": {},
   "cell_type": "markdown",
   "metadata": {},
   "source": [
    "---\n",
    "essential-data-science-2025/workshop-ukcs-basemap.ipynb  \n",
    "Copyright © 2020-2025 Analytic Signal Limited, all rights reserved"
   ]
  }
 ],
 "metadata": {
  "interpreter": {
   "hash": "725412f23884018f9b75d8bef97f0b548c67cb67da0ad1d874164e2bc46a8fff"
  },
  "kernelspec": {
   "display_name": "Python 3.9.8 ('.venv': venv)",
   "language": "python",
   "name": "python3"
  },
  "language_info": {
   "codemirror_mode": {
    "name": "ipython",
    "version": 3
   },
   "file_extension": ".py",
   "mimetype": "text/x-python",
   "name": "python",
   "nbconvert_exporter": "python",
   "pygments_lexer": "ipython3",
   "version": "3.9.13 (main, Aug 25 2022, 18:29:29) \n[Clang 12.0.0 ]"
  },
  "metadata": {
   "interpreter": {
    "hash": "82a1c55b9537259b874b3897e9974a269c3d850a3bd0ce97c52ac2e7ac459201"
   }
  },
  "orig_nbformat": 2
 },
 "nbformat": 4,
 "nbformat_minor": 2
}
